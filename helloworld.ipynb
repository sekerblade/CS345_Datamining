{
 "cells": [
  {
   "cell_type": "code",
   "execution_count": 1,
   "id": "c6963f18-b626-4e54-9d64-837b7baa4624",
   "metadata": {},
   "outputs": [
    {
     "name": "stdout",
     "output_type": "stream",
     "text": [
      "hello world\n"
     ]
    }
   ],
   "source": [
    "print(\"hello world\")"
   ]
  },
  {
   "cell_type": "code",
   "execution_count": 2,
   "id": "6e9092e5-3608-4145-a574-985e3e755512",
   "metadata": {},
   "outputs": [
    {
     "name": "stdout",
     "output_type": "stream",
     "text": [
      "110\n"
     ]
    }
   ],
   "source": [
    "safe = 55+55\n",
    "print(safe)"
   ]
  },
  {
   "cell_type": "code",
   "execution_count": 5,
   "id": "c5e09441-fb2f-4bc0-afc9-6e90354f31db",
   "metadata": {},
   "outputs": [
    {
     "name": "stdout",
     "output_type": "stream",
     "text": [
      "55 hello world\n"
     ]
    }
   ],
   "source": [
    "chutty = str(55) + \" hello world\"\n",
    "print(chutty)"
   ]
  },
  {
   "cell_type": "code",
   "execution_count": null,
   "id": "efea26a6-6e55-42ca-a2fc-41ff8d61aaab",
   "metadata": {},
   "outputs": [],
   "source": []
  }
 ],
 "metadata": {
  "kernelspec": {
   "display_name": "Python 3 (ipykernel)",
   "language": "python",
   "name": "python3"
  },
  "language_info": {
   "codemirror_mode": {
    "name": "ipython",
    "version": 3
   },
   "file_extension": ".py",
   "mimetype": "text/x-python",
   "name": "python",
   "nbconvert_exporter": "python",
   "pygments_lexer": "ipython3",
   "version": "3.10.12"
  }
 },
 "nbformat": 4,
 "nbformat_minor": 5
}
